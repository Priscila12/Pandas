{
  "nbformat": 4,
  "nbformat_minor": 0,
  "metadata": {
    "colab": {
      "name": "priscilaAssignment3.ipynb",
      "provenance": []
    },
    "kernelspec": {
      "display_name": "Python 3",
      "language": "python",
      "name": "python3"
    },
    "language_info": {
      "codemirror_mode": {
        "name": "ipython",
        "version": 3
      },
      "file_extension": ".py",
      "mimetype": "text/x-python",
      "name": "python",
      "nbconvert_exporter": "python",
      "pygments_lexer": "ipython3",
      "version": "3.6.9"
    }
  },
  "cells": [
    {
      "cell_type": "markdown",
      "metadata": {
        "colab_type": "text",
        "id": "21l25vYc2paX"
      },
      "source": [
        "# Pandas Assingment-3\n",
        "\n",
        "(Based on IPL matches and deliveries dataset)\n",
        "\n",
        "\n",
        "<a>https://www.kaggle.com/nowke9/ipldata#matches.csv</a>\n",
        "\n",
        "\n",
        "<a>https://www.kaggle.com/nowke9/ipldata#deliveries.csv<a>"
      ]
    },
    {
      "cell_type": "code",
      "metadata": {
        "colab_type": "code",
        "id": "o5boB4lw2pae",
        "colab": {}
      },
      "source": [
        "import pandas as pd\n",
        "matches = pd.read_csv(\"matches.csv\")\n",
        "delivery = pd.read_csv(\"deliveries.csv\")"
      ],
      "execution_count": 0,
      "outputs": []
    },
    {
      "cell_type": "markdown",
      "metadata": {
        "colab_type": "text",
        "id": "Z-GXnX7X2pao"
      },
      "source": [
        "## Q1. Find out a City which has hosted most no. of IPL openers i.e first match of a season."
      ]
    },
    {
      "cell_type": "code",
      "metadata": {
        "colab_type": "code",
        "id": "giIbK_sw2par",
        "colab": {},
        "outputId": "678dbf05-364d-48c9-cf68-36930f9eca10"
      },
      "source": [
        "d1 = matches.drop_duplicates(subset = ['season'], keep = \"first\") # 1st match of season\n",
        "d1['city'].value_counts().head(1) # Number of matches in each city"
      ],
      "execution_count": 0,
      "outputs": [
        {
          "output_type": "execute_result",
          "data": {
            "text/plain": [
              "Chennai    3\n",
              "Name: city, dtype: int64"
            ]
          },
          "metadata": {
            "tags": []
          },
          "execution_count": 3
        }
      ]
    },
    {
      "cell_type": "markdown",
      "metadata": {
        "colab_type": "text",
        "id": "pLOfkHEW2pa8"
      },
      "source": [
        "## Q2. Find out top-3 batsman who has scored most runs against Malinga."
      ]
    },
    {
      "cell_type": "code",
      "metadata": {
        "colab_type": "code",
        "id": "KXw75NZq2pbA",
        "colab": {},
        "outputId": "3322da84-4c14-473f-c2b6-fca3a927a26d"
      },
      "source": [
        "mask = delivery['bowler'] == \"SL Malinga\" # Bowler is malinga mask\n",
        "delivery[mask].groupby('batsman')['batsman_runs'].sum().sort_values(ascending = False).head(3)"
      ],
      "execution_count": 0,
      "outputs": [
        {
          "output_type": "execute_result",
          "data": {
            "text/plain": [
              "batsman\n",
              "SR Watson         127\n",
              "AB de Villiers    125\n",
              "MS Dhoni           89\n",
              "Name: batsman_runs, dtype: int64"
            ]
          },
          "metadata": {
            "tags": []
          },
          "execution_count": 5
        }
      ]
    },
    {
      "cell_type": "markdown",
      "metadata": {
        "colab_type": "text",
        "id": "qDLT5Ken2pbS"
      },
      "source": [
        "## Q3. Make a function to find top bowler(in terms of most wickets) against any team. Take input as team."
      ]
    },
    {
      "cell_type": "code",
      "metadata": {
        "colab_type": "code",
        "id": "xPwQSYFh2pbV",
        "colab": {},
        "outputId": "4a25d849-550b-47fc-e67a-ac9a6dfac048"
      },
      "source": [
        "def top(team) :\n",
        "    data = delivery[delivery['batting_team'] == team] # Opponent is team\n",
        "    data2 = data[~(data['player_dismissed'].isnull())] # Where wicket taken\n",
        "    print(data2.groupby('bowler').size().sort_values(ascending = False).head(1)) # Grouping according to bowler\n",
        "\n",
        "top(\"Mumbai Indians\")"
      ],
      "execution_count": 0,
      "outputs": [
        {
          "output_type": "stream",
          "text": [
            "bowler\n",
            "DJ Bravo    31\n",
            "dtype: int64\n"
          ],
          "name": "stdout"
        }
      ]
    },
    {
      "cell_type": "markdown",
      "metadata": {
        "colab_type": "text",
        "id": "bzxZpvaU2pbn"
      },
      "source": [
        "## Q4. Write a function which will take team name as input and return it's record of no. occurance in finals and no. of times won.  [Difficult]\n",
        "\n",
        "ex.-- if team is CSK-- \n",
        "CSK in finals-\n",
        "\n",
        "Played- 8\n",
        "Won- 3\n",
        "\n",
        "If any team which has not played in finals like Gujrat Lions\n",
        "\n",
        "Gujrat Lions in finals-\n",
        "\n",
        "Played-0\n"
      ]
    },
    {
      "cell_type": "code",
      "metadata": {
        "colab_type": "code",
        "id": "5GSeUaF22pbp",
        "colab": {},
        "outputId": "84dec0ec-3508-4b82-8acf-0cd41b7cebdd"
      },
      "source": [
        "def record(team) :\n",
        "    d = matches.drop_duplicates('season', keep = \"last\") # Last Match = Final Match\n",
        "    mask1 = (d['team1']  == team) | (d['team2'] == team) # Number of times in finals\n",
        "    mask2 = d['winner'] == team # Number of times won finals\n",
        "    print(\"Played:\", d[mask1].shape[0])\n",
        "    print(\"Won:\", d[mask2].shape[0])\n",
        "    \n",
        "record(\"Chennai Super Kings\")"
      ],
      "execution_count": 0,
      "outputs": [
        {
          "output_type": "stream",
          "text": [
            "Played: 8\n",
            "Won: 3\n"
          ],
          "name": "stdout"
        }
      ]
    },
    {
      "cell_type": "markdown",
      "metadata": {
        "colab_type": "text",
        "id": "J1MI4hTr2pb5"
      },
      "source": [
        "## Q5. Write a function which will take a input as batsman and in output it gives total runs scored against each team. [Medium]\n",
        "\n",
        "\n"
      ]
    },
    {
      "cell_type": "code",
      "metadata": {
        "colab_type": "code",
        "id": "xOn0Zt1C2pb7",
        "colab": {},
        "outputId": "f48b9c53-d804-450a-a24a-2ff4dd1f88f8"
      },
      "source": [
        "def bat(batsman) :\n",
        "    print(delivery[delivery['batsman'] == batsman].groupby('bowling_team')['batsman_runs'].sum().sort_values(ascending = False))\n",
        "bat('MS Dhoni')"
      ],
      "execution_count": 0,
      "outputs": [
        {
          "output_type": "stream",
          "text": [
            "bowling_team\n",
            "Royal Challengers Bangalore    808\n",
            "Mumbai Indians                 669\n",
            "Kings XI Punjab                601\n",
            "Delhi Daredevils               488\n",
            "Kolkata Knight Riders          474\n",
            "Rajasthan Royals               428\n",
            "Sunrisers Hyderabad            398\n",
            "Deccan Chargers                281\n",
            "Pune Warriors                  135\n",
            "Delhi Capitals                  89\n",
            "Gujarat Lions                   83\n",
            "Kochi Tuskers Kerala            23\n",
            "Name: batsman_runs, dtype: int64\n"
          ],
          "name": "stdout"
        }
      ]
    },
    {
      "cell_type": "markdown",
      "metadata": {
        "colab_type": "text",
        "id": "bG5EuKzo2pcH"
      },
      "source": [
        ""
      ]
    }
  ]
}