{
  "nbformat": 4,
  "nbformat_minor": 0,
  "metadata": {
    "colab": {
      "name": "Priscila Tamang_Pandas_Assingment_4.ipynb",
      "provenance": [],
      "collapsed_sections": []
    },
    "kernelspec": {
      "display_name": "Python 3",
      "language": "python",
      "name": "python3"
    },
    "language_info": {
      "codemirror_mode": {
        "name": "ipython",
        "version": 3
      },
      "file_extension": ".py",
      "mimetype": "text/x-python",
      "name": "python",
      "nbconvert_exporter": "python",
      "pygments_lexer": "ipython3",
      "version": "3.6.9"
    }
  },
  "cells": [
    {
      "cell_type": "markdown",
      "metadata": {
        "colab_type": "text",
        "id": "pRtGaaYvHX9E"
      },
      "source": [
        "#  **Pandas Assingment-4**\n",
        "\n",
        "(Based on IPL matches and deliveries dataset)\n",
        "\n",
        "\n",
        "Matches- <a>https://www.kaggle.com/nowke9/ipldata#matches.csv</a>\n",
        "\n",
        "\n",
        "Deliveries- <a>https://www.kaggle.com/nowke9/ipldata#deliveries.csv<a>"
      ]
    },
    {
      "cell_type": "code",
      "metadata": {
        "colab_type": "code",
        "id": "wWbs9Zo7HPa0",
        "colab": {}
      },
      "source": [
        "import pandas as pd\n",
        "delivery = pd.read_csv(\"deliveries.csv\")\n",
        "matches = pd.read_csv('matches.csv')"
      ],
      "execution_count": 0,
      "outputs": []
    },
    {
      "cell_type": "code",
      "metadata": {
        "id": "kvCspICkKIh_",
        "colab_type": "code",
        "colab": {}
      },
      "source": [
        "#  Q1.- Make a pivot table of top 10 bowlers(in terms of wickets) with over(1-20) showing no. of wickets.  [Dificult-]"
      ],
      "execution_count": 0,
      "outputs": []
    },
    {
      "cell_type": "code",
      "metadata": {
        "colab_type": "code",
        "id": "0bwEd4drWsJ6",
        "outputId": "679d2fef-7630-4bcd-fb2f-f5bb2dbe7bbd",
        "colab": {
          "base_uri": "https://localhost:8080/",
          "height": 493
        }
      },
      "source": [
        "wickets = delivery[~delivery['player_dismissed'].isnull()] # Rows where wickets taken\n",
        "top_bowlers = wickets.groupby('bowler')['player_dismissed'].count().sort_values(ascending = False).index[0:10].tolist() # Top 10 Bowlers\n",
        "wickets[wickets['bowler'].isin(top_bowlers)].pivot_table(index = \"bowler\", columns = \"over\", values = \"player_dismissed\", aggfunc = \"count\") # Pivot Table"
      ],
      "execution_count": 0,
      "outputs": [
        {
          "output_type": "execute_result",
          "data": {
            "text/html": [
              "<div>\n",
              "<style scoped>\n",
              "    .dataframe tbody tr th:only-of-type {\n",
              "        vertical-align: middle;\n",
              "    }\n",
              "\n",
              "    .dataframe tbody tr th {\n",
              "        vertical-align: top;\n",
              "    }\n",
              "\n",
              "    .dataframe thead th {\n",
              "        text-align: right;\n",
              "    }\n",
              "</style>\n",
              "<table border=\"1\" class=\"dataframe\">\n",
              "  <thead>\n",
              "    <tr style=\"text-align: right;\">\n",
              "      <th>over</th>\n",
              "      <th>1</th>\n",
              "      <th>2</th>\n",
              "      <th>3</th>\n",
              "      <th>4</th>\n",
              "      <th>5</th>\n",
              "      <th>6</th>\n",
              "      <th>7</th>\n",
              "      <th>8</th>\n",
              "      <th>9</th>\n",
              "      <th>10</th>\n",
              "      <th>11</th>\n",
              "      <th>12</th>\n",
              "      <th>13</th>\n",
              "      <th>14</th>\n",
              "      <th>15</th>\n",
              "      <th>16</th>\n",
              "      <th>17</th>\n",
              "      <th>18</th>\n",
              "      <th>19</th>\n",
              "      <th>20</th>\n",
              "    </tr>\n",
              "    <tr>\n",
              "      <th>bowler</th>\n",
              "      <th></th>\n",
              "      <th></th>\n",
              "      <th></th>\n",
              "      <th></th>\n",
              "      <th></th>\n",
              "      <th></th>\n",
              "      <th></th>\n",
              "      <th></th>\n",
              "      <th></th>\n",
              "      <th></th>\n",
              "      <th></th>\n",
              "      <th></th>\n",
              "      <th></th>\n",
              "      <th></th>\n",
              "      <th></th>\n",
              "      <th></th>\n",
              "      <th></th>\n",
              "      <th></th>\n",
              "      <th></th>\n",
              "      <th></th>\n",
              "    </tr>\n",
              "  </thead>\n",
              "  <tbody>\n",
              "    <tr>\n",
              "      <th>A Mishra</th>\n",
              "      <td>1.0</td>\n",
              "      <td>NaN</td>\n",
              "      <td>NaN</td>\n",
              "      <td>4.0</td>\n",
              "      <td>1.0</td>\n",
              "      <td>NaN</td>\n",
              "      <td>16.0</td>\n",
              "      <td>11.0</td>\n",
              "      <td>20.0</td>\n",
              "      <td>11.0</td>\n",
              "      <td>14.0</td>\n",
              "      <td>13.0</td>\n",
              "      <td>10.0</td>\n",
              "      <td>16.0</td>\n",
              "      <td>7.0</td>\n",
              "      <td>15.0</td>\n",
              "      <td>8.0</td>\n",
              "      <td>7.0</td>\n",
              "      <td>5.0</td>\n",
              "      <td>6.0</td>\n",
              "    </tr>\n",
              "    <tr>\n",
              "      <th>B Kumar</th>\n",
              "      <td>19.0</td>\n",
              "      <td>7.0</td>\n",
              "      <td>13.0</td>\n",
              "      <td>4.0</td>\n",
              "      <td>4.0</td>\n",
              "      <td>4.0</td>\n",
              "      <td>NaN</td>\n",
              "      <td>3.0</td>\n",
              "      <td>NaN</td>\n",
              "      <td>1.0</td>\n",
              "      <td>1.0</td>\n",
              "      <td>1.0</td>\n",
              "      <td>1.0</td>\n",
              "      <td>1.0</td>\n",
              "      <td>2.0</td>\n",
              "      <td>12.0</td>\n",
              "      <td>8.0</td>\n",
              "      <td>16.0</td>\n",
              "      <td>20.0</td>\n",
              "      <td>24.0</td>\n",
              "    </tr>\n",
              "    <tr>\n",
              "      <th>DJ Bravo</th>\n",
              "      <td>NaN</td>\n",
              "      <td>1.0</td>\n",
              "      <td>2.0</td>\n",
              "      <td>3.0</td>\n",
              "      <td>1.0</td>\n",
              "      <td>6.0</td>\n",
              "      <td>7.0</td>\n",
              "      <td>5.0</td>\n",
              "      <td>6.0</td>\n",
              "      <td>2.0</td>\n",
              "      <td>4.0</td>\n",
              "      <td>8.0</td>\n",
              "      <td>7.0</td>\n",
              "      <td>9.0</td>\n",
              "      <td>5.0</td>\n",
              "      <td>14.0</td>\n",
              "      <td>9.0</td>\n",
              "      <td>29.0</td>\n",
              "      <td>14.0</td>\n",
              "      <td>36.0</td>\n",
              "    </tr>\n",
              "    <tr>\n",
              "      <th>Harbhajan Singh</th>\n",
              "      <td>5.0</td>\n",
              "      <td>6.0</td>\n",
              "      <td>1.0</td>\n",
              "      <td>7.0</td>\n",
              "      <td>4.0</td>\n",
              "      <td>9.0</td>\n",
              "      <td>14.0</td>\n",
              "      <td>14.0</td>\n",
              "      <td>9.0</td>\n",
              "      <td>13.0</td>\n",
              "      <td>14.0</td>\n",
              "      <td>13.0</td>\n",
              "      <td>6.0</td>\n",
              "      <td>13.0</td>\n",
              "      <td>5.0</td>\n",
              "      <td>8.0</td>\n",
              "      <td>9.0</td>\n",
              "      <td>6.0</td>\n",
              "      <td>4.0</td>\n",
              "      <td>1.0</td>\n",
              "    </tr>\n",
              "    <tr>\n",
              "      <th>PP Chawla</th>\n",
              "      <td>NaN</td>\n",
              "      <td>2.0</td>\n",
              "      <td>1.0</td>\n",
              "      <td>1.0</td>\n",
              "      <td>2.0</td>\n",
              "      <td>10.0</td>\n",
              "      <td>6.0</td>\n",
              "      <td>9.0</td>\n",
              "      <td>12.0</td>\n",
              "      <td>9.0</td>\n",
              "      <td>15.0</td>\n",
              "      <td>9.0</td>\n",
              "      <td>16.0</td>\n",
              "      <td>11.0</td>\n",
              "      <td>14.0</td>\n",
              "      <td>12.0</td>\n",
              "      <td>11.0</td>\n",
              "      <td>7.0</td>\n",
              "      <td>2.0</td>\n",
              "      <td>7.0</td>\n",
              "    </tr>\n",
              "    <tr>\n",
              "      <th>R Ashwin</th>\n",
              "      <td>7.0</td>\n",
              "      <td>1.0</td>\n",
              "      <td>5.0</td>\n",
              "      <td>6.0</td>\n",
              "      <td>10.0</td>\n",
              "      <td>8.0</td>\n",
              "      <td>2.0</td>\n",
              "      <td>9.0</td>\n",
              "      <td>7.0</td>\n",
              "      <td>6.0</td>\n",
              "      <td>10.0</td>\n",
              "      <td>11.0</td>\n",
              "      <td>8.0</td>\n",
              "      <td>8.0</td>\n",
              "      <td>8.0</td>\n",
              "      <td>15.0</td>\n",
              "      <td>5.0</td>\n",
              "      <td>9.0</td>\n",
              "      <td>1.0</td>\n",
              "      <td>2.0</td>\n",
              "    </tr>\n",
              "    <tr>\n",
              "      <th>R Vinay Kumar</th>\n",
              "      <td>2.0</td>\n",
              "      <td>6.0</td>\n",
              "      <td>4.0</td>\n",
              "      <td>10.0</td>\n",
              "      <td>5.0</td>\n",
              "      <td>6.0</td>\n",
              "      <td>3.0</td>\n",
              "      <td>1.0</td>\n",
              "      <td>3.0</td>\n",
              "      <td>3.0</td>\n",
              "      <td>7.0</td>\n",
              "      <td>4.0</td>\n",
              "      <td>2.0</td>\n",
              "      <td>3.0</td>\n",
              "      <td>6.0</td>\n",
              "      <td>4.0</td>\n",
              "      <td>8.0</td>\n",
              "      <td>10.0</td>\n",
              "      <td>11.0</td>\n",
              "      <td>29.0</td>\n",
              "    </tr>\n",
              "    <tr>\n",
              "      <th>SL Malinga</th>\n",
              "      <td>12.0</td>\n",
              "      <td>12.0</td>\n",
              "      <td>2.0</td>\n",
              "      <td>3.0</td>\n",
              "      <td>5.0</td>\n",
              "      <td>6.0</td>\n",
              "      <td>1.0</td>\n",
              "      <td>NaN</td>\n",
              "      <td>1.0</td>\n",
              "      <td>2.0</td>\n",
              "      <td>1.0</td>\n",
              "      <td>4.0</td>\n",
              "      <td>9.0</td>\n",
              "      <td>3.0</td>\n",
              "      <td>5.0</td>\n",
              "      <td>18.0</td>\n",
              "      <td>14.0</td>\n",
              "      <td>29.0</td>\n",
              "      <td>36.0</td>\n",
              "      <td>25.0</td>\n",
              "    </tr>\n",
              "    <tr>\n",
              "      <th>SP Narine</th>\n",
              "      <td>NaN</td>\n",
              "      <td>2.0</td>\n",
              "      <td>2.0</td>\n",
              "      <td>3.0</td>\n",
              "      <td>10.0</td>\n",
              "      <td>8.0</td>\n",
              "      <td>NaN</td>\n",
              "      <td>3.0</td>\n",
              "      <td>4.0</td>\n",
              "      <td>3.0</td>\n",
              "      <td>10.0</td>\n",
              "      <td>5.0</td>\n",
              "      <td>5.0</td>\n",
              "      <td>9.0</td>\n",
              "      <td>8.0</td>\n",
              "      <td>9.0</td>\n",
              "      <td>12.0</td>\n",
              "      <td>14.0</td>\n",
              "      <td>15.0</td>\n",
              "      <td>15.0</td>\n",
              "    </tr>\n",
              "    <tr>\n",
              "      <th>UT Yadav</th>\n",
              "      <td>6.0</td>\n",
              "      <td>8.0</td>\n",
              "      <td>7.0</td>\n",
              "      <td>13.0</td>\n",
              "      <td>5.0</td>\n",
              "      <td>7.0</td>\n",
              "      <td>2.0</td>\n",
              "      <td>4.0</td>\n",
              "      <td>4.0</td>\n",
              "      <td>2.0</td>\n",
              "      <td>3.0</td>\n",
              "      <td>3.0</td>\n",
              "      <td>3.0</td>\n",
              "      <td>5.0</td>\n",
              "      <td>2.0</td>\n",
              "      <td>9.0</td>\n",
              "      <td>8.0</td>\n",
              "      <td>11.0</td>\n",
              "      <td>12.0</td>\n",
              "      <td>22.0</td>\n",
              "    </tr>\n",
              "  </tbody>\n",
              "</table>\n",
              "</div>"
            ],
            "text/plain": [
              "over               1     2     3     4     5     6     7     8     9     10  \\\n",
              "bowler                                                                        \n",
              "A Mishra          1.0   NaN   NaN   4.0   1.0   NaN  16.0  11.0  20.0  11.0   \n",
              "B Kumar          19.0   7.0  13.0   4.0   4.0   4.0   NaN   3.0   NaN   1.0   \n",
              "DJ Bravo          NaN   1.0   2.0   3.0   1.0   6.0   7.0   5.0   6.0   2.0   \n",
              "Harbhajan Singh   5.0   6.0   1.0   7.0   4.0   9.0  14.0  14.0   9.0  13.0   \n",
              "PP Chawla         NaN   2.0   1.0   1.0   2.0  10.0   6.0   9.0  12.0   9.0   \n",
              "R Ashwin          7.0   1.0   5.0   6.0  10.0   8.0   2.0   9.0   7.0   6.0   \n",
              "R Vinay Kumar     2.0   6.0   4.0  10.0   5.0   6.0   3.0   1.0   3.0   3.0   \n",
              "SL Malinga       12.0  12.0   2.0   3.0   5.0   6.0   1.0   NaN   1.0   2.0   \n",
              "SP Narine         NaN   2.0   2.0   3.0  10.0   8.0   NaN   3.0   4.0   3.0   \n",
              "UT Yadav          6.0   8.0   7.0  13.0   5.0   7.0   2.0   4.0   4.0   2.0   \n",
              "\n",
              "over               11    12    13    14    15    16    17    18    19    20  \n",
              "bowler                                                                       \n",
              "A Mishra         14.0  13.0  10.0  16.0   7.0  15.0   8.0   7.0   5.0   6.0  \n",
              "B Kumar           1.0   1.0   1.0   1.0   2.0  12.0   8.0  16.0  20.0  24.0  \n",
              "DJ Bravo          4.0   8.0   7.0   9.0   5.0  14.0   9.0  29.0  14.0  36.0  \n",
              "Harbhajan Singh  14.0  13.0   6.0  13.0   5.0   8.0   9.0   6.0   4.0   1.0  \n",
              "PP Chawla        15.0   9.0  16.0  11.0  14.0  12.0  11.0   7.0   2.0   7.0  \n",
              "R Ashwin         10.0  11.0   8.0   8.0   8.0  15.0   5.0   9.0   1.0   2.0  \n",
              "R Vinay Kumar     7.0   4.0   2.0   3.0   6.0   4.0   8.0  10.0  11.0  29.0  \n",
              "SL Malinga        1.0   4.0   9.0   3.0   5.0  18.0  14.0  29.0  36.0  25.0  \n",
              "SP Narine        10.0   5.0   5.0   9.0   8.0   9.0  12.0  14.0  15.0  15.0  \n",
              "UT Yadav          3.0   3.0   3.0   5.0   2.0   9.0   8.0  11.0  12.0  22.0  "
            ]
          },
          "metadata": {
            "tags": []
          },
          "execution_count": 3
        }
      ]
    },
    {
      "cell_type": "code",
      "metadata": {
        "colab_type": "code",
        "id": "j8h89sMDSYJf",
        "colab": {}
      },
      "source": [
        "# Q2.- Make a function for batting profile of any batsman:-                                              [Medium+]"
      ],
      "execution_count": 0,
      "outputs": []
    },
    {
      "cell_type": "markdown",
      "metadata": {
        "colab_type": "text",
        "id": "n6Ftmi3fSwsV"
      },
      "source": [
        "Ex- \n",
        "\n",
        "V Kohli:\n",
        "\n",
        "Innings:  \n",
        "\n",
        "Total Runs: \n",
        "\n",
        "No. of MOM(Man of the match):\n",
        "\n",
        "No. of boundries:"
      ]
    },
    {
      "cell_type": "code",
      "metadata": {
        "colab_type": "code",
        "id": "IKB4T5GcWruI",
        "colab": {},
        "outputId": "c9cf407a-f0be-4f8c-930f-f7d1501164af"
      },
      "source": [
        "def player_profile(player):\n",
        "    print(\"Player profile for\",player,\":\")\n",
        "    profile=delivery.groupby(\"batsman\")\n",
        "    print(\"Innings played=\",len(profile.get_group(player)[\"match_id\"].unique()))\n",
        "    print(\"Total runs scored=\",profile.get_group(player)[\"total_runs\"].sum())\n",
        "    print(\"Number of Man Of the Matches awarded=\",(matches[\"player_of_match\"]==player).sum())\n",
        "    print(\"Total number of boundaries=\",(profile.get_group(player)[\"batsman_runs\"]>3).sum())\n",
        "player_profile(\"V Kohli\")"
      ],
      "execution_count": 0,
      "outputs": [
        {
          "output_type": "stream",
          "text": [
            "Player profile for V Kohli :\n",
            "Innings played= 169\n",
            "Total runs scored= 5616\n",
            "Number of Man Of the Matches awarded= 11\n",
            "Total number of boundaries= 673\n"
          ],
          "name": "stdout"
        }
      ]
    },
    {
      "cell_type": "code",
      "metadata": {
        "colab_type": "code",
        "id": "QUnkFJniSvyp",
        "colab": {}
      },
      "source": [
        "# Q3.- Write a function to return top-4 batsman at a venue. Take venue as input"
      ],
      "execution_count": 0,
      "outputs": []
    },
    {
      "cell_type": "code",
      "metadata": {
        "colab_type": "code",
        "id": "GthZEaHbWqO_",
        "colab": {},
        "outputId": "ce5dfe65-90c3-4f4a-986e-6b0e7892dddc"
      },
      "source": [
        "def topBatsmanAtVenue(venue) :\n",
        "    new = delivery.merge(matches, left_on = 'match_id', right_on = 'id')\n",
        "    mask = new['venue'] == venue\n",
        "    print(new[mask].groupby('batsman')['batsman_runs'].sum().sort_values(ascending = False).index[0:4])\n",
        "topBatsmanAtVenue(\"Eden Gardens\")"
      ],
      "execution_count": 0,
      "outputs": [
        {
          "output_type": "stream",
          "text": [
            "Index(['G Gambhir', 'RV Uthappa', 'YK Pathan', 'MK Pandey'], dtype='object', name='batsman')\n"
          ],
          "name": "stdout"
        }
      ]
    },
    {
      "cell_type": "code",
      "metadata": {
        "colab_type": "code",
        "id": "OrY1DCnEUeZZ",
        "colab": {}
      },
      "source": [
        "# Q4.- No. of matches per season played in Mumbai."
      ],
      "execution_count": 0,
      "outputs": []
    },
    {
      "cell_type": "code",
      "metadata": {
        "colab_type": "code",
        "id": "sP_94AJ0VJAx",
        "colab": {},
        "outputId": "59a8c6a7-e167-4475-8bcc-eab4f1baa7f5"
      },
      "source": [
        "matches[matches['city'] == \"Mumbai\"].groupby('season')['id'].count()"
      ],
      "execution_count": 0,
      "outputs": [
        {
          "output_type": "execute_result",
          "data": {
            "text/plain": [
              "season\n",
              "2008    10\n",
              "2010    13\n",
              "2011    16\n",
              "2012     8\n",
              "2013     8\n",
              "2014     7\n",
              "2015    11\n",
              "2016     4\n",
              "2017     8\n",
              "Name: id, dtype: int64"
            ]
          },
          "metadata": {
            "tags": []
          },
          "execution_count": 8
        }
      ]
    },
    {
      "cell_type": "code",
      "metadata": {
        "colab_type": "code",
        "id": "xZggSazkVKYg",
        "colab": {}
      },
      "source": [
        "# Q5. - Top-3 Player in terms of most no. of catches."
      ],
      "execution_count": 0,
      "outputs": []
    },
    {
      "cell_type": "code",
      "metadata": {
        "colab_type": "code",
        "id": "j6x0t9RuV-WH",
        "colab": {},
        "outputId": "82ae88a0-5d67-413f-9240-07a6987931cc"
      },
      "source": [
        "delivery[delivery['dismissal_kind'] == \"caught\"].groupby('fielder')['fielder'].count().sort_values(ascending = False).head(3)"
      ],
      "execution_count": 0,
      "outputs": [
        {
          "output_type": "execute_result",
          "data": {
            "text/plain": [
              "fielder\n",
              "KD Karthik    109\n",
              "SK Raina       99\n",
              "MS Dhoni       98\n",
              "Name: fielder, dtype: int64"
            ]
          },
          "metadata": {
            "tags": []
          },
          "execution_count": 9
        }
      ]
    }
  ]
}